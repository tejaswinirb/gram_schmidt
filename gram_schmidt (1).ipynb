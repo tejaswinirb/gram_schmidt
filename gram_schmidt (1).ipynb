{
  "nbformat": 4,
  "nbformat_minor": 0,
  "metadata": {
    "colab": {
      "provenance": []
    },
    "kernelspec": {
      "name": "python3",
      "display_name": "Python 3"
    },
    "language_info": {
      "name": "python"
    }
  },
  "cells": [
    {
      "cell_type": "code",
      "execution_count": null,
      "metadata": {
        "id": "C2j12TDe6faW"
      },
      "outputs": [],
      "source": [
        "import numpy as np"
      ]
    },
    {
      "cell_type": "code",
      "source": [
        "vectors = np.array(\n",
        "    [[0, 0, 4],\n",
        "     [0, 1, 1],\n",
        "     [1, 1, 1]]\n",
        ")"
      ],
      "metadata": {
        "id": "BIVzOAVu6i_9"
      },
      "execution_count": null,
      "outputs": []
    },
    {
      "cell_type": "code",
      "source": [
        "q1 = vectors[0]"
      ],
      "metadata": {
        "id": "zL3Hv3Dj65Z2"
      },
      "execution_count": null,
      "outputs": []
    },
    {
      "cell_type": "code",
      "source": [
        "q1_normalized = q1/np.linalg.norm(q1)\n",
        "q1_normalized"
      ],
      "metadata": {
        "colab": {
          "base_uri": "https://localhost:8080/"
        },
        "id": "3bXzBbB-7pfR",
        "outputId": "f80e4025-f496-4152-bf14-dcc6d9931fa7"
      },
      "execution_count": null,
      "outputs": [
        {
          "output_type": "execute_result",
          "data": {
            "text/plain": [
              "array([0., 0., 1.])"
            ]
          },
          "metadata": {},
          "execution_count": 5
        }
      ]
    },
    {
      "cell_type": "code",
      "source": [
        "basis = []\n",
        "basis.append(q1_normalized)"
      ],
      "metadata": {
        "id": "ztW_1Piv8GLX"
      },
      "execution_count": null,
      "outputs": []
    },
    {
      "cell_type": "code",
      "source": [
        "q2 = vectors[1] - np.dot(q1_normalized, vectors[1]) * q1_normalized\n",
        "if np.linalg.norm(q2) < 1e-7:\n",
        "  print(\"q2 is dependent on q1\")\n",
        "else:\n",
        "    q2_normalized = q2/np.linalg.norm(q2)\n",
        "    basis.append(q2_normalized)\n",
        "    q2_normalized"
      ],
      "metadata": {
        "id": "bUKmT0i08GH1"
      },
      "execution_count": null,
      "outputs": []
    },
    {
      "cell_type": "code",
      "source": [
        "q2_normalized"
      ],
      "metadata": {
        "colab": {
          "base_uri": "https://localhost:8080/"
        },
        "id": "qnlSOozr9qwR",
        "outputId": "a4b7c05b-8727-4315-c24f-796c3d6efbcf"
      },
      "execution_count": null,
      "outputs": [
        {
          "output_type": "execute_result",
          "data": {
            "text/plain": [
              "array([0., 1., 0.])"
            ]
          },
          "metadata": {},
          "execution_count": 9
        }
      ]
    },
    {
      "cell_type": "code",
      "source": [
        "basis"
      ],
      "metadata": {
        "colab": {
          "base_uri": "https://localhost:8080/"
        },
        "id": "zmBXavvQ9QXa",
        "outputId": "de4542d1-2e13-452c-e668-701335166a9e"
      },
      "execution_count": null,
      "outputs": [
        {
          "output_type": "execute_result",
          "data": {
            "text/plain": [
              "[array([0., 0., 1.]), array([0., 1., 0.])]"
            ]
          },
          "metadata": {},
          "execution_count": 8
        }
      ]
    },
    {
      "cell_type": "code",
      "source": [
        "q3 = vectors[2] - \\\n",
        " np.dot(q1_normalized, vectors[2]) * q1_normalized - \\\n",
        " np.dot(q2_normalized, vectors[2]) * q2_normalized\n",
        "\n",
        "if np.linalg.norm(q3) < 1e-7:\n",
        "  print(\"q3 is dependent on q1\")\n",
        "else:\n",
        "    q3_normalized = q3/np.linalg.norm(q3)\n",
        "    basis.append(q3_normalized)\n",
        "    q3_normalized"
      ],
      "metadata": {
        "id": "z1C2f53S9m4n"
      },
      "execution_count": null,
      "outputs": []
    },
    {
      "cell_type": "code",
      "source": [
        "q3_normalized"
      ],
      "metadata": {
        "colab": {
          "base_uri": "https://localhost:8080/"
        },
        "id": "uchB9eTy-Vag",
        "outputId": "e436d291-3495-4d10-930f-2dea15618b97"
      },
      "execution_count": null,
      "outputs": [
        {
          "output_type": "execute_result",
          "data": {
            "text/plain": [
              "array([1., 0., 0.])"
            ]
          },
          "metadata": {},
          "execution_count": 11
        }
      ]
    },
    {
      "cell_type": "code",
      "source": [
        "def  gram_schmidt(vectors):\n",
        "  basis = []\n",
        "  for ai in vectors:\n",
        "    qnew = ai - np.sum( np.dot(ai,qj) * qj for qj in basis)\n",
        "    norm = np.linalg.norm(qnew)\n",
        "    if (norm > 1e-10):\n",
        "      basis.append(qnew/norm)\n",
        "    else:\n",
        "      raise Exception(f )\n",
        "  return np.array(basis)\n"
      ],
      "metadata": {
        "id": "DAyz1vVl--jN"
      },
      "execution_count": null,
      "outputs": []
    },
    {
      "cell_type": "code",
      "source": [
        "gram_schmidt(vectors)"
      ],
      "metadata": {
        "colab": {
          "base_uri": "https://localhost:8080/"
        },
        "id": "uhn3WMie_2fK",
        "outputId": "03006cd2-ad78-404b-eda4-49b7f9101fd5"
      },
      "execution_count": null,
      "outputs": [
        {
          "output_type": "stream",
          "name": "stderr",
          "text": [
            "<ipython-input-12-5445c5e0b300>:4: DeprecationWarning: Calling np.sum(generator) is deprecated, and in the future will give a different result. Use np.sum(np.fromiter(generator)) or the python sum builtin instead.\n",
            "  qnew = ai - np.sum( np.dot(ai,qj) * qj for qj in basis)\n"
          ]
        },
        {
          "output_type": "execute_result",
          "data": {
            "text/plain": [
              "array([[0., 0., 1.],\n",
              "       [0., 1., 0.],\n",
              "       [1., 0., 0.]])"
            ]
          },
          "metadata": {},
          "execution_count": 13
        }
      ]
    },
    {
      "cell_type": "code",
      "source": [
        "vectors = np.array(\n",
        "    [[0, 0, 4],\n",
        "     [0, 0, 2],\n",
        "     [1, 1, 1]])\n",
        "gram_schmidt(vectors)"
      ],
      "metadata": {
        "colab": {
          "base_uri": "https://localhost:8080/"
        },
        "id": "toK7M7iuAeYP",
        "outputId": "875d823f-00b2-4f04-ba7b-9d6f42bcc42d"
      },
      "execution_count": null,
      "outputs": [
        {
          "output_type": "stream",
          "name": "stderr",
          "text": [
            "<ipython-input-12-5445c5e0b300>:4: DeprecationWarning: Calling np.sum(generator) is deprecated, and in the future will give a different result. Use np.sum(np.fromiter(generator)) or the python sum builtin instead.\n",
            "  qnew = ai - np.sum( np.dot(ai,qj) * qj for qj in basis)\n"
          ]
        },
        {
          "output_type": "execute_result",
          "data": {
            "text/plain": [
              "array([[0., 0., 1.]])"
            ]
          },
          "metadata": {},
          "execution_count": 16
        }
      ]
    },
    {
      "cell_type": "code",
      "source": [],
      "metadata": {
        "id": "P2dFduQQBErv"
      },
      "execution_count": null,
      "outputs": []
    }
  ]
}